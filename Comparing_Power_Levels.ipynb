{
 "cells": [
  {
   "cell_type": "markdown",
   "id": "eac6825e",
   "metadata": {},
   "source": [
    "# Comparing the Power Levels of Beams"
   ]
  },
  {
   "cell_type": "code",
   "execution_count": 1,
   "id": "11bd64fe",
   "metadata": {},
   "outputs": [],
   "source": [
    "import pandas as pd\n",
    "import numpy as np\n",
    "import matplotlib.pyplot as plt\n",
    "import pickle\n",
    "import seaborn as sns\n",
    "from tabulate import tabulate\n",
    "from astropy.time import Time\n",
    "from tqdm import tqdm\n",
    "import csv\n",
    "import math"
   ]
  },
  {
   "cell_type": "code",
   "execution_count": null,
   "id": "3c89a9ec",
   "metadata": {},
   "outputs": [],
   "source": [
    "with open('../../Pickle_Files/beam_separation_2_hits.pkl', 'rb') as f:\n",
    "    hit_2 = pickle.load(f)\n",
    "print(hit_2.shape)\n",
    "file_path_2 = hit_2[\"file_path\"]\n",
    "unique_file_path_2 = np.unique(file_path_2) #the array of unique fields of view\n",
    "\n",
    "with open('../../Pickle_Files/beam_separation_3_hits.pkl', 'rb') as f:\n",
    "    hit_3 = pickle.load(f)\n",
    "print(hit_3.shape)\n",
    "file_path_3 = hit_3[\"file_path\"]\n",
    "unique_file_path_3 = np.unique(file_path_3) #the array of unique fields of view\n",
    "\n",
    "with open('../../Pickle_Files/beam_separation_4_hits.pkl', 'rb') as f:\n",
    "    hit_4 = pickle.load(f)\n",
    "print(hit_4.shape)\n",
    "file_path_4 = hit_4[\"file_path\"]\n",
    "unique_file_path_4 = np.unique(file_path_4) #the array of unique fields of view\n",
    "\n",
    "with open('../../Pickle_Files/beam_separation_5_hits.pkl', 'rb') as f:\n",
    "    hit_5 = pickle.load(f)\n",
    "print(hit_5.shape)\n",
    "file_path_5 = hit_5[\"file_path\"]\n",
    "unique_file_path_5 = np.unique(file_path_5) #the array of unique fields of view"
   ]
  }
 ],
 "metadata": {
  "kernelspec": {
   "display_name": "Python 3",
   "language": "python",
   "name": "python3"
  },
  "language_info": {
   "codemirror_mode": {
    "name": "ipython",
    "version": 3
   },
   "file_extension": ".py",
   "mimetype": "text/x-python",
   "name": "python",
   "nbconvert_exporter": "python",
   "pygments_lexer": "ipython3",
   "version": "3.7.6"
  }
 },
 "nbformat": 4,
 "nbformat_minor": 5
}
