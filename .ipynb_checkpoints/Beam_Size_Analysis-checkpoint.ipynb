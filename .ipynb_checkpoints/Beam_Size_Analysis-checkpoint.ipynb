{
 "cells": [
  {
   "cell_type": "markdown",
   "id": "20c5e3b4",
   "metadata": {},
   "source": [
    "# Analyzing the Distances Between Beams"
   ]
  },
  {
   "cell_type": "markdown",
   "id": "5f3a566f",
   "metadata": {},
   "source": [
    "Start off by importing any necessary packages. Check the README for the versions of each of the packages being used."
   ]
  },
  {
   "cell_type": "code",
   "execution_count": 1,
   "id": "20976a82",
   "metadata": {},
   "outputs": [],
   "source": [
    "import pandas as pd\n",
    "import numpy as np\n",
    "import matplotlib.pyplot as plt\n",
    "import pickle\n",
    "import seaborn as sns\n",
    "from tabulate import tabulate\n",
    "from astropy.time import Time\n",
    "from tqdm import tqdm\n",
    "import csv"
   ]
  },
  {
   "cell_type": "markdown",
   "id": "010ddba9",
   "metadata": {},
   "source": [
    "Open up the .pickle files. The 4.beams.pkl file has all of the hits that are present in "
   ]
  },
  {
   "cell_type": "code",
   "execution_count": null,
   "id": "7cdfbaff",
   "metadata": {},
   "outputs": [],
   "source": [
    "with open('4_beams.pkl', 'rb') as f:\n",
    "    hit_4 = pickle.load(f)\n",
    "print(hit_4.shape)\n",
    "file_path_4 = hit_4[\"file_path\"]\n",
    "unique_file_path_4 = np.unique(file_path_4) #the array of unique fields of view\n",
    "\n",
    "with open('5_beams.pkl', 'rb') as f:\n",
    "    hit_5 = pickle.load(f)\n",
    "print(hit_5.shape)\n",
    "file_path_5 = hit_5[\"file_path\"]\n",
    "unique_file_path_5 = np.unique(file_path_5) #the array of unique fields of view"
   ]
  }
 ],
 "metadata": {
  "kernelspec": {
   "display_name": "Python 3",
   "language": "python",
   "name": "python3"
  },
  "language_info": {
   "codemirror_mode": {
    "name": "ipython",
    "version": 3
   },
   "file_extension": ".py",
   "mimetype": "text/x-python",
   "name": "python",
   "nbconvert_exporter": "python",
   "pygments_lexer": "ipython3",
   "version": "3.7.6"
  }
 },
 "nbformat": 4,
 "nbformat_minor": 5
}
