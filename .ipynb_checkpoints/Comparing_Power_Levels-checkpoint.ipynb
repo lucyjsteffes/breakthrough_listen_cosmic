{
 "cells": [
  {
   "cell_type": "markdown",
   "id": "cfe35dc1",
   "metadata": {},
   "source": [
    "# Comparing the Power Levels of Beams"
   ]
  },
  {
   "cell_type": "markdown",
   "id": "b63f1243",
   "metadata": {},
   "source": [
    "At this stage, I would like to compare the powers of the different beams. I am doing this for several reasons. For the hits that were observed in two beams, I want to see how the powers compare to each other and to some of the powers in the other incoherent beams. To compare them to each other, to see how those intensities compare with their spacing on the plane of the sky. Given the point spread function, they should have some variance, unless by some crazy miracle the signal is coming from directly in between the two beams. \n",
    "\n",
    "Then for the rest of the types of hits, I plan on comparing the intensities of the incoherent beam with the powers of the coherent beams. Because of how the incoherent beam is made, it should have a ratio of 1:13 (need to verify this). I will also compare the powers of the coherent beams with the other coherent beams in that same field of view (where applicable) to try to triangulate the exact location of the source emitting the signal. \n",
    "\n",
    "But first, I'll load in the packages that I'll need for this. Check the README.md to see the versions for each package that I am using."
   ]
  },
  {
   "cell_type": "code",
   "execution_count": 1,
   "id": "8d534ba6",
   "metadata": {},
   "outputs": [],
   "source": [
    "import pandas as pd\n",
    "import numpy as np\n",
    "import matplotlib.pyplot as plt\n",
    "import pickle\n",
    "import seaborn as sns\n",
    "from tabulate import tabulate\n",
    "from astropy.time import Time\n",
    "from tqdm import tqdm\n",
    "import csv\n",
    "import math"
   ]
  },
  {
   "cell_type": "markdown",
   "id": "248d2ec1",
   "metadata": {},
   "source": [
    "Load in all of the files that I will need to use. Most of these are the ones that have an incoherent beam included in each of the hits and have a maximum spacing of 3 beams for a total maximum spacing of 6.3\". The two exceptions are all of the hits in 2 beams. The one with the separation is the file that has all of the hits in 2 beams and neither of these are the incoherent beam. There is an additional requirement for this file that all of the beams are within 6.3\" of each other. The other file for the hits that are detected in two of the beams is the one where one beam is the incoherent and the other is a coherent beam."
   ]
  },
  {
   "cell_type": "code",
   "execution_count": 3,
   "id": "9c879330",
   "metadata": {},
   "outputs": [
    {
     "name": "stdout",
     "output_type": "stream",
     "text": [
      "(37328, 24)\n",
      "(25734, 24)\n",
      "(31544, 24)\n",
      "(87350, 24)\n",
      "(26142, 24)\n"
     ]
    }
   ],
   "source": [
    "with open('../../Pickle_Files/beam_separation_2_hits.pkl', 'rb') as f:\n",
    "    hit_2 = pickle.load(f)\n",
    "print(hit_2.shape)\n",
    "file_path_2 = hit_2[\"file_path\"]\n",
    "unique_file_path_2 = np.unique(file_path_2) #the array of unique fields of view\n",
    "\n",
    "with open('../../Pickle_Files/beam_separation_3_hits.pkl', 'rb') as f:\n",
    "    hit_3 = pickle.load(f)\n",
    "print(hit_3.shape)\n",
    "file_path_3 = hit_3[\"file_path\"]\n",
    "unique_file_path_3 = np.unique(file_path_3) #the array of unique fields of view\n",
    "\n",
    "with open('../../Pickle_Files/beam_separation_4_hits.pkl', 'rb') as f:\n",
    "    hit_4 = pickle.load(f)\n",
    "print(hit_4.shape)\n",
    "file_path_4 = hit_4[\"file_path\"]\n",
    "unique_file_path_4 = np.unique(file_path_4) #the array of unique fields of view\n",
    "\n",
    "with open('../../Pickle_Files/beam_separation_5_hits.pkl', 'rb') as f:\n",
    "    hit_5 = pickle.load(f)\n",
    "print(hit_5.shape)\n",
    "file_path_5 = hit_5[\"file_path\"]\n",
    "unique_file_path_5 = np.unique(file_path_5) #the array of unique fields of view\n",
    "\n",
    "with open('../../Pickle_Files/2_beams.pkl', 'rb') as f:\n",
    "    hit_2_incoherent = pickle.load(f)\n",
    "print(hit_2_incoherent.shape)\n",
    "file_path_2_incoherent = hit_2_incoherent[\"file_path\"]\n",
    "unique_file_path_2_incoherent = np.unique(file_path_2_incoherent) #the array of unique fields of view"
   ]
  },
  {
   "cell_type": "markdown",
   "id": "d9592810",
   "metadata": {},
   "source": [
    "This first cell will look at the hits with just the power levels for the hits that were present in one coherent beam and an incoherent beam. I am comparing the powers of the coherent beam and the incoherent beam. In the cases where the incoherent powers are different between the coherent and incoherent beams, I used the incoherent power from the incoherent beam."
   ]
  },
  {
   "cell_type": "code",
   "execution_count": 56,
   "id": "e767e97e",
   "metadata": {},
   "outputs": [
    {
     "name": "stderr",
     "output_type": "stream",
     "text": [
      "100%|██████████| 13071/13071 [00:17<00:00, 728.03it/s]"
     ]
    },
    {
     "name": "stdout",
     "output_type": "stream",
     "text": [
      "1.3593550060659945 0.8232252130113559 10133\n",
      "(20266, 24)\n"
     ]
    },
    {
     "name": "stderr",
     "output_type": "stream",
     "text": [
      "\n"
     ]
    }
   ],
   "source": [
    "df2 = pd.DataFrame({\"file_path\":[],\n",
    "                    \"hit_file_enumeration\":[],\n",
    "                    \"signal_frequency\":[],\n",
    "                    \"signal_index\":[],\n",
    "                    \"signal_driftSteps\":[],\n",
    "                    \"signal_driftRate\":[],\n",
    "                    \"signal_snr\":[],\n",
    "                    \"signal_coarseChannel\":[],\n",
    "                    \"signal_numTimesteps\":[],\n",
    "                    \"signal_power\":[],\n",
    "                    \"signal_incoherentPower\":[],\n",
    "                    \"sourceName\":[],\n",
    "                    \"fch1\":[],\n",
    "                    \"foff\":[],\n",
    "                    \"tstart\":[],\n",
    "                    \"tsamp\":[],\n",
    "                    \"ra\":[],\n",
    "                    \"dec\":[],\n",
    "                    \"telescopeId\":[],\n",
    "                    \"numTimesteps\":[],\n",
    "                    \"numChannels\":[],\n",
    "                    \"coarseChannel\":[],\n",
    "                    \"startChannel\":[],\n",
    "                    \"beam\":[]})\n",
    "\n",
    "power_ratios_2_incoherent = []\n",
    "for i in tqdm(range(int(len(file_path_2_incoherent)/2))):\n",
    "#for i in range(100):\n",
    "    data_fov_subset = hit_2_incoherent.loc[i*2:(i*2)+1] #select each subset  \n",
    "    \n",
    "    #All of the hits within a given clump will all have the same frequency, so I am sorting only by the signal power\n",
    "    data_fov_subset = data_fov_subset.sort_values(by = [\"beam\"])\n",
    "\n",
    "    incoherent_power = np.unique(np.array(data_fov_subset[\"signal_incoherentPower\"])) #define the column \n",
    "    coherent_power = np.array(data_fov_subset[\"signal_power\"])\n",
    "    \n",
    "    if len(incoherent_power) == 1:\n",
    "        power_ratio = coherent_power[0]/incoherent_power[-1]\n",
    "\n",
    "        if coherent_power[0]*4.4 > incoherent_power[-1]:\n",
    "            power_ratios_2_incoherent.append(power_ratio)\n",
    "\n",
    "            appending_rows = data_fov_subset\n",
    "            df2 = df2.append(appending_rows, ignore_index = True)        \n",
    "\n",
    "        else:\n",
    "            continue\n",
    "            \n",
    "    else:\n",
    "        continue\n",
    "\n",
    "print(np.max(power_ratios_2_incoherent), np.min(power_ratios_2_incoherent), len(power_ratios_2_incoherent))\n",
    "print(df2.shape)\n",
    "\n",
    "with open('../../Pickle_Files/short_list_2_hits.pkl', 'wb') as f:  # open a text file\n",
    "    pickle.dump(df2, f) # serialize the list\n",
    "f.close()"
   ]
  },
  {
   "cell_type": "code",
   "execution_count": 61,
   "id": "d45b3e13",
   "metadata": {},
   "outputs": [
    {
     "name": "stderr",
     "output_type": "stream",
     "text": [
      "100%|██████████| 17470/17470 [01:02<00:00, 279.84it/s]\n"
     ]
    },
    {
     "name": "stdout",
     "output_type": "stream",
     "text": [
      "1.7454802299323955 0.700707196010869 15344\n",
      "(76720, 24)\n"
     ]
    }
   ],
   "source": [
    "df2 = pd.DataFrame({\"file_path\":[],\n",
    "                    \"hit_file_enumeration\":[],\n",
    "                    \"signal_frequency\":[],\n",
    "                    \"signal_index\":[],\n",
    "                    \"signal_driftSteps\":[],\n",
    "                    \"signal_driftRate\":[],\n",
    "                    \"signal_snr\":[],\n",
    "                    \"signal_coarseChannel\":[],\n",
    "                    \"signal_numTimesteps\":[],\n",
    "                    \"signal_power\":[],\n",
    "                    \"signal_incoherentPower\":[],\n",
    "                    \"sourceName\":[],\n",
    "                    \"fch1\":[],\n",
    "                    \"foff\":[],\n",
    "                    \"tstart\":[],\n",
    "                    \"tsamp\":[],\n",
    "                    \"ra\":[],\n",
    "                    \"dec\":[],\n",
    "                    \"telescopeId\":[],\n",
    "                    \"numTimesteps\":[],\n",
    "                    \"numChannels\":[],\n",
    "                    \"coarseChannel\":[],\n",
    "                    \"startChannel\":[],\n",
    "                    \"beam\":[]})\n",
    "\n",
    "power_ratios_5 = []\n",
    "for i in tqdm(range(int(len(file_path_5)/5))):\n",
    "    data_fov_subset = hit_5.loc[i*5:(i*5)+4] #select each subset  \n",
    "    \n",
    "    #All of the hits within a given clump will all have the same frequency, so I am sorting only by the signal power\n",
    "    data_fov_subset = data_fov_subset.sort_values(by = [\"beam\"])\n",
    "\n",
    "    beam = np.array(data_fov_subset[\"beam\"])\n",
    "    incoherent_power = np.unique(np.array(data_fov_subset[\"signal_incoherentPower\"])) #define the column \n",
    "    coherent_power = np.array(data_fov_subset[\"signal_power\"])\n",
    "    \n",
    "    if len(incoherent_power) == 1:\n",
    "    \n",
    "        good_beams = []\n",
    "        power_ratios = []\n",
    "        for x in range(len(coherent_power)-1):\n",
    "            if coherent_power[x]*4.4 > incoherent_power[-1]:\n",
    "                power_ratio = coherent_power[x]/incoherent_power[-1]\n",
    "                power_ratios.append(power_ratio)\n",
    "                good_beams.append(beam[x])       \n",
    "\n",
    "            else:\n",
    "                continue\n",
    "\n",
    "        if len(good_beams) == 4:\n",
    "            power_ratios_5.append(power_ratio)\n",
    "\n",
    "            appending_rows = data_fov_subset\n",
    "            df2 = df2.append(appending_rows, ignore_index = True)\n",
    "        \n",
    "\n",
    "print(np.max(power_ratios_5), np.min(power_ratios_5), len(power_ratios_5))\n",
    "print(df2.shape)\n",
    "\n",
    "with open('../../Pickle_Files/short_list_5_hits.pkl', 'wb') as f:  # open a text file\n",
    "    pickle.dump(df2, f) # serialize the list\n",
    "f.close()"
   ]
  },
  {
   "cell_type": "code",
   "execution_count": 64,
   "id": "6d843203",
   "metadata": {},
   "outputs": [
    {
     "name": "stderr",
     "output_type": "stream",
     "text": [
      "100%|██████████| 7886/7886 [00:09<00:00, 790.36it/s]\n"
     ]
    },
    {
     "name": "stdout",
     "output_type": "stream",
     "text": [
      "1.7454802299323955 0.8147935096759675 4781\n",
      "(19124, 24)\n"
     ]
    }
   ],
   "source": [
    "df2 = pd.DataFrame({\"file_path\":[],\n",
    "                    \"hit_file_enumeration\":[],\n",
    "                    \"signal_frequency\":[],\n",
    "                    \"signal_index\":[],\n",
    "                    \"signal_driftSteps\":[],\n",
    "                    \"signal_driftRate\":[],\n",
    "                    \"signal_snr\":[],\n",
    "                    \"signal_coarseChannel\":[],\n",
    "                    \"signal_numTimesteps\":[],\n",
    "                    \"signal_power\":[],\n",
    "                    \"signal_incoherentPower\":[],\n",
    "                    \"sourceName\":[],\n",
    "                    \"fch1\":[],\n",
    "                    \"foff\":[],\n",
    "                    \"tstart\":[],\n",
    "                    \"tsamp\":[],\n",
    "                    \"ra\":[],\n",
    "                    \"dec\":[],\n",
    "                    \"telescopeId\":[],\n",
    "                    \"numTimesteps\":[],\n",
    "                    \"numChannels\":[],\n",
    "                    \"coarseChannel\":[],\n",
    "                    \"startChannel\":[],\n",
    "                    \"beam\":[]})\n",
    "\n",
    "power_ratios_4 = []\n",
    "for i in tqdm(range(int(len(file_path_4)/4))):\n",
    "    data_fov_subset = hit_4.loc[i*4:(i*4)+3] #select each subset  \n",
    "    \n",
    "    #All of the hits within a given clump will all have the same frequency, so I am sorting only by the signal power\n",
    "    data_fov_subset = data_fov_subset.sort_values(by = [\"beam\"])\n",
    "\n",
    "    beam = np.array(data_fov_subset[\"beam\"])\n",
    "    incoherent_power = np.unique(np.array(data_fov_subset[\"signal_incoherentPower\"])) #define the column \n",
    "    coherent_power = np.array(data_fov_subset[\"signal_power\"])\n",
    "    \n",
    "    if len(incoherent_power) == 1:\n",
    "    \n",
    "        good_beams = []\n",
    "        power_ratios = []\n",
    "        for x in range(len(coherent_power)-1):\n",
    "            if coherent_power[x]*4.4 > incoherent_power[-1]:\n",
    "                power_ratio = coherent_power[x]/incoherent_power[-1]\n",
    "                power_ratios.append(power_ratio)\n",
    "                good_beams.append(beam[x])       \n",
    "\n",
    "            else:\n",
    "                continue\n",
    "\n",
    "        if len(good_beams) == 3:\n",
    "            power_ratios_4.append(power_ratio)\n",
    "\n",
    "            appending_rows = data_fov_subset\n",
    "            df2 = df2.append(appending_rows, ignore_index = True)\n",
    "        \n",
    "\n",
    "print(np.max(power_ratios_4), np.min(power_ratios_4), len(power_ratios_4))\n",
    "print(df2.shape)\n",
    "\n",
    "with open('../../Pickle_Files/short_list_4_hits.pkl', 'wb') as f:  # open a text file\n",
    "    pickle.dump(df2, f) # serialize the list\n",
    "f.close()"
   ]
  },
  {
   "cell_type": "code",
   "execution_count": 65,
   "id": "d9723290",
   "metadata": {},
   "outputs": [
    {
     "name": "stderr",
     "output_type": "stream",
     "text": [
      "100%|██████████| 8578/8578 [00:11<00:00, 716.49it/s]"
     ]
    },
    {
     "name": "stdout",
     "output_type": "stream",
     "text": [
      "1.3831584262780632 0.8345768183864208 6380\n",
      "(19140, 24)\n"
     ]
    },
    {
     "name": "stderr",
     "output_type": "stream",
     "text": [
      "\n"
     ]
    }
   ],
   "source": [
    "df2 = pd.DataFrame({\"file_path\":[],\n",
    "                    \"hit_file_enumeration\":[],\n",
    "                    \"signal_frequency\":[],\n",
    "                    \"signal_index\":[],\n",
    "                    \"signal_driftSteps\":[],\n",
    "                    \"signal_driftRate\":[],\n",
    "                    \"signal_snr\":[],\n",
    "                    \"signal_coarseChannel\":[],\n",
    "                    \"signal_numTimesteps\":[],\n",
    "                    \"signal_power\":[],\n",
    "                    \"signal_incoherentPower\":[],\n",
    "                    \"sourceName\":[],\n",
    "                    \"fch1\":[],\n",
    "                    \"foff\":[],\n",
    "                    \"tstart\":[],\n",
    "                    \"tsamp\":[],\n",
    "                    \"ra\":[],\n",
    "                    \"dec\":[],\n",
    "                    \"telescopeId\":[],\n",
    "                    \"numTimesteps\":[],\n",
    "                    \"numChannels\":[],\n",
    "                    \"coarseChannel\":[],\n",
    "                    \"startChannel\":[],\n",
    "                    \"beam\":[]})\n",
    "\n",
    "power_ratios_3 = []\n",
    "for i in tqdm(range(int(len(file_path_3)/3))):\n",
    "    data_fov_subset = hit_3.loc[i*3:(i*3)+2] #select each subset  \n",
    "    \n",
    "    #All of the hits within a given clump will all have the same frequency, so I am sorting only by the signal power\n",
    "    data_fov_subset = data_fov_subset.sort_values(by = [\"beam\"])\n",
    "\n",
    "    beam = np.array(data_fov_subset[\"beam\"])\n",
    "    incoherent_power = np.unique(np.array(data_fov_subset[\"signal_incoherentPower\"])) #define the column \n",
    "    coherent_power = np.array(data_fov_subset[\"signal_power\"])\n",
    "    \n",
    "    if len(incoherent_power) == 1:\n",
    "    \n",
    "        good_beams = []\n",
    "        power_ratios = []\n",
    "        for x in range(len(coherent_power)-1):\n",
    "            if coherent_power[x]*4.4 > incoherent_power[-1]:\n",
    "                power_ratio = coherent_power[x]/incoherent_power[-1]\n",
    "                power_ratios.append(power_ratio)\n",
    "                good_beams.append(beam[x])       \n",
    "\n",
    "            else:\n",
    "                continue\n",
    "\n",
    "        if len(good_beams) == 2:\n",
    "            power_ratios_3.append(power_ratio)\n",
    "\n",
    "            appending_rows = data_fov_subset\n",
    "            df2 = df2.append(appending_rows, ignore_index = True)\n",
    "        \n",
    "\n",
    "print(np.max(power_ratios_3), np.min(power_ratios_3), len(power_ratios_3))\n",
    "print(df2.shape)\n",
    "\n",
    "with open('../../Pickle_Files/short_list_3_hits.pkl', 'wb') as f:  # open a text file\n",
    "    pickle.dump(df2, f) # serialize the list\n",
    "f.close()"
   ]
  }
 ],
 "metadata": {
  "kernelspec": {
   "display_name": "Python 3",
   "language": "python",
   "name": "python3"
  },
  "language_info": {
   "codemirror_mode": {
    "name": "ipython",
    "version": 3
   },
   "file_extension": ".py",
   "mimetype": "text/x-python",
   "name": "python",
   "nbconvert_exporter": "python",
   "pygments_lexer": "ipython3",
   "version": "3.7.6"
  }
 },
 "nbformat": 4,
 "nbformat_minor": 5
}
