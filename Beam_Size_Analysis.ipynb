{
 "cells": [
  {
   "cell_type": "markdown",
   "id": "1e11b812",
   "metadata": {},
   "source": [
    "# Analyzing the Distances Between Beams"
   ]
  },
  {
   "cell_type": "markdown",
   "id": "eb496e23",
   "metadata": {},
   "source": [
    "Start off by importing any necessary packages. Check the README for the versions of each of the packages being used."
   ]
  },
  {
   "cell_type": "code",
   "execution_count": 6,
   "id": "dd3f6fcb",
   "metadata": {},
   "outputs": [],
   "source": [
    "import pandas as pd\n",
    "import numpy as np\n",
    "import matplotlib.pyplot as plt\n",
    "import pickle\n",
    "import seaborn as sns\n",
    "from tabulate import tabulate\n",
    "from astropy.time import Time\n",
    "from tqdm import tqdm\n",
    "import csv\n",
    "import math"
   ]
  },
  {
   "cell_type": "markdown",
   "id": "4e61f81b",
   "metadata": {},
   "source": [
    "Open up the .pickle files. The 4_beams.pkl file has all of the hits that are present in 4 of the beams in a given field of view. The same is true for 5_beams.pkl but the hit is present in 5 of the beams. However, there is a caveat here in that all of the hits that were missing an incoherent beam were excluded. These were assumed to be low intensity RFI, which when the average was taken to create the incoherent beam were excluded but were still classified as being hits in 4-5 of the coherent beams."
   ]
  },
  {
   "cell_type": "code",
   "execution_count": 4,
   "id": "397f678f",
   "metadata": {},
   "outputs": [
    {
     "name": "stdout",
     "output_type": "stream",
     "text": [
      "(73840, 24)\n",
      "(181150, 24)\n"
     ]
    }
   ],
   "source": [
    "with open('../../4_beams.pkl', 'rb') as f:\n",
    "    hit_4 = pickle.load(f)\n",
    "print(hit_4.shape)\n",
    "file_path_4 = hit_4[\"file_path\"]\n",
    "unique_file_path_4 = np.unique(file_path_4) #the array of unique fields of view\n",
    "\n",
    "with open('../../5_beams.pkl', 'rb') as f:\n",
    "    hit_5 = pickle.load(f)\n",
    "print(hit_5.shape)\n",
    "file_path_5 = hit_5[\"file_path\"]\n",
    "unique_file_path_5 = np.unique(file_path_5) #the array of unique fields of view"
   ]
  },
  {
   "cell_type": "markdown",
   "id": "1ee6c158",
   "metadata": {},
   "source": [
    "This data was taken at S band with the VLA in the B configuration. This would mean that the beam size should be 2.1 arcseconds. So here's my plan:\n",
    "\n",
    "- Clump together each hit \n",
    "- Find the distances between each of the coordinates in RA and DEC\n",
    "- Convert these distances to arcseconds\n",
    "\n",
    "Now there a few other things to consider here. The center of the incoherent beam is usually offset from where all of the coherent beams are, so the distances should be calculated for each of the points aside from the incoherent beam so that it does not cause issues with the distances. We will then filter out any of them that have a distance greater than 6.3 arcseconds."
   ]
  },
  {
   "cell_type": "code",
   "execution_count": 16,
   "id": "3dae8ef8",
   "metadata": {},
   "outputs": [
    {
     "name": "stdout",
     "output_type": "stream",
     "text": [
      "2.0 4.0\n",
      "0.5621356454823611\n",
      "-5.987875597742031\n",
      "6.014204075183711\n"
     ]
    }
   ],
   "source": [
    "right_ascension = hit_5[\"ra\"]\n",
    "declination = hit_5[\"dec\"]\n",
    "beam = hit_5[\"beam\"]\n",
    "\n",
    "print(beam[2], beam[1])\n",
    "print((right_ascension[1]-right_ascension[2])*math.pi*3600/180)\n",
    "print((declination[1]-declination[2])*math.pi*3600/180)\n",
    "print(math.sqrt(((right_ascension[1]-right_ascension[2])*math.pi*3600/180)**2+((declination[1]-declination[2])*math.pi*3600/180)**2))"
   ]
  },
  {
   "cell_type": "markdown",
   "id": "88760f0b",
   "metadata": {},
   "source": [
    "So I'm going to make a for loop that goes through all of the clumps, and then does the above calculation for each of the combinations, except for the coherent beam. To do this, once I pull the clump, I'll sort it by the beam and then only look at the combinations that occur within beams 0-4. I will append all of the distances to an array for the specific clump. Then if any of the values in the array are greater than 6.3, the clump will not get appended to the dataframe. "
   ]
  }
 ],
 "metadata": {
  "kernelspec": {
   "display_name": "Python 3",
   "language": "python",
   "name": "python3"
  },
  "language_info": {
   "codemirror_mode": {
    "name": "ipython",
    "version": 3
   },
   "file_extension": ".py",
   "mimetype": "text/x-python",
   "name": "python",
   "nbconvert_exporter": "python",
   "pygments_lexer": "ipython3",
   "version": "3.7.6"
  }
 },
 "nbformat": 4,
 "nbformat_minor": 5
}
